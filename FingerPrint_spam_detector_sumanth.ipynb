{
  "cells": [
    {
      "cell_type": "code",
      "execution_count": 6,
      "id": "77ba2680",
      "metadata": {
        "id": "77ba2680"
      },
      "outputs": [],
      "source": [
        "import matplotlib.pyplot as plt\n",
        "from skimage.io import imread\n",
        "from skimage.feature import hog,local_binary_pattern\n",
        "import glob\n",
        "import numpy as np\n",
        "import pandas as pd\n",
        "import seaborn as sns\n",
        "from sklearn import svm\n",
        "from skimage import feature\n",
        "from sklearn.metrics import classification_report\n",
        "from skimage.color import rgb2gray\n",
        "import os\n",
        "from sklearn.metrics import accuracy_score, precision_score, recall_score, f1_score\n",
        "from sklearn.model_selection import cross_validate\n",
        "\n",
        "\n",
        "from sklearn.tree import DecisionTreeClassifier\n",
        "from sklearn.svm import SVC\n",
        "from sklearn.linear_model import LogisticRegression\n",
        "from sklearn.ensemble import RandomForestClassifier\n",
        "from sklearn.naive_bayes import GaussianNB\n",
        "from sklearn.neighbors import KNeighborsClassifier\n",
        "\n",
        "from sklearn.model_selection import cross_val_score\n",
        "from sklearn.metrics import confusion_matrix"
      ]
    },
    {
      "cell_type": "code",
      "source": [
        "#! unzip Spoof_data.zip"
      ],
      "metadata": {
        "id": "nad_2vn1dtZ7"
      },
      "id": "nad_2vn1dtZ7",
      "execution_count": 7,
      "outputs": []
    },
    {
      "cell_type": "code",
      "execution_count": 8,
      "id": "dad35549",
      "metadata": {
        "id": "dad35549"
      },
      "outputs": [],
      "source": [
        "# import training data\n",
        "live_train = glob.glob('Spoof_data/Training Biometrika Live/live/*.png') #positive\n",
        "spoof_train = glob.glob('Spoof_data/Training Biometrika Spoof/Training Biometrika Spoof/spoof/*.png') # negative\n",
        "\n",
        "# import testing data\n",
        "live_test = glob.glob('Spoof_data/Testing Biometrika Live/live/*.png') # positive\n",
        "spoof_test = glob.glob('Spoof_data/Testing Biometrika Spoof/Testing Biometrika Spoof/spoof/*.png') # negative"
      ]
    },
    {
      "cell_type": "code",
      "execution_count": 9,
      "id": "f499894e",
      "metadata": {
        "colab": {
          "base_uri": "https://localhost:8080/"
        },
        "id": "f499894e",
        "outputId": "497dc2b5-4efd-483c-a936-cf12734c2482"
      },
      "outputs": [
        {
          "output_type": "stream",
          "name": "stdout",
          "text": [
            "207\n"
          ]
        }
      ],
      "source": [
        "print(len(spoof_train))"
      ]
    },
    {
      "cell_type": "code",
      "execution_count": 10,
      "id": "a66dfffa",
      "metadata": {
        "id": "a66dfffa"
      },
      "outputs": [],
      "source": [
        "# initialize empty lists to append data\n",
        "live_train_images = []\n",
        "spoof_train_images = []\n",
        "live_test_images = []\n",
        "spoof_test_images = []\n",
        "\n",
        "# read images from given path and append to the variavles\n",
        "for path in live_train: live_train_images.append(imread(path))\n",
        "for path in spoof_train: spoof_train_images.append(imread(path))\n",
        "for path in live_test: live_test_images.append(imread(path))\n",
        "for path in spoof_test: spoof_test_images.append(imread(path))"
      ]
    },
    {
      "cell_type": "code",
      "execution_count": 11,
      "id": "5bb7bbcb",
      "metadata": {
        "id": "5bb7bbcb"
      },
      "outputs": [],
      "source": [
        "# convert images to np arrays\n",
        "live_train_images, spoof_train_images = np.asarray(live_train_images), np.asarray(spoof_train_images)\n",
        "live_test_images, spoof_test_images = np.asarray(live_test_images), np.asarray(spoof_test_images)"
      ]
    },
    {
      "cell_type": "code",
      "execution_count": 12,
      "id": "cb8cf310",
      "metadata": {
        "id": "cb8cf310"
      },
      "outputs": [],
      "source": [
        "# change the type of feature you want to use here\n",
        "feature_type = \"lbp\" #hog or lbp\n",
        "\n",
        "# initialize empty lists to append features\n",
        "live_train_features, spoof_train_features = [], []\n",
        "live_test_features, spoof_test_features = [], []\n",
        "\n",
        "if(feature_type == \"hog\"):\n",
        "\n",
        "    # calculate and store hog features of training data\n",
        "    for live_img, spoof_img in zip(live_train_images, spoof_train_images):\n",
        "        live_train_features.append(hog(live_img, feature_vector = True))\n",
        "        spoof_train_features.append(hog(spoof_img, feature_vector = True))\n",
        "\n",
        "    # calculate and store hog features of testing data\n",
        "    for live_img, spoof_img in zip(live_test_images, spoof_test_images):\n",
        "        live_test_features.append(hog(live_img, feature_vector = True))\n",
        "        spoof_test_features.append(hog(spoof_img, feature_vector = True))\n",
        "\n",
        "if(feature_type == \"lbp\"):\n",
        "\n",
        "# parameters copied from scikit docs of lbp\n",
        "    METHOD = 'uniform'\n",
        "    R = 3\n",
        "    P = 8 * R\n",
        "\n",
        "    # calculate and store lbp features of training data\n",
        "    for live_img, spoof_img in zip(live_train_images, spoof_train_images):\n",
        "        live_img = rgb2gray(live_img)\n",
        "        spoof_img = rgb2gray(spoof_img)\n",
        "        live_train_features.append(local_binary_pattern(live_img, P, R, METHOD).flatten())\n",
        "        spoof_train_features.append(local_binary_pattern(spoof_img, P, R, METHOD).flatten())\n",
        "\n",
        "    # calculate and store lbp features of training data\n",
        "    for live_img, spoof_img in zip(live_test_images, spoof_test_images):\n",
        "        # convert rgb to gray\n",
        "        live_img = rgb2gray(live_img)\n",
        "        # convert rgb to gray\n",
        "        spoof_img = rgb2gray(spoof_img)\n",
        "        live_test_features.append(local_binary_pattern(live_img, P, R, METHOD).flatten())\n",
        "        spoof_test_features.append(local_binary_pattern(spoof_img, P, R, METHOD).flatten())"
      ]
    },
    {
      "cell_type": "code",
      "execution_count": 13,
      "id": "282d9a30",
      "metadata": {
        "id": "282d9a30"
      },
      "outputs": [],
      "source": [
        "# define labels 1 for live and 0 for spoof\n",
        "# i.e. create a list of 200 1's and 200 0's\n",
        "labels_train = [[1]]*len(live_train_features) + [[0]]*len(spoof_train_features)\n",
        "\n",
        "# merge both positive and negative training data\n",
        "full_train = live_train_features + spoof_train_features\n",
        "\n",
        "# assign labels for all test data, 1 for positive, 0 for negative\n",
        "labels_test = [[1]]*len(live_test_features) + [[0]]*len(spoof_test_features)\n",
        "\n",
        "# merge both positive and negative training data\n",
        "full_test = live_test_features + spoof_test_features\n"
      ]
    },
    {
      "cell_type": "code",
      "execution_count": 14,
      "id": "69c923a2",
      "metadata": {
        "colab": {
          "base_uri": "https://localhost:8080/"
        },
        "id": "69c923a2",
        "outputId": "de0576db-ce64-49a4-a325-c73c7e4991f0"
      },
      "outputs": [
        {
          "output_type": "execute_result",
          "data": {
            "text/plain": [
              "400"
            ]
          },
          "metadata": {},
          "execution_count": 14
        }
      ],
      "source": [
        "len(labels_train)"
      ]
    },
    {
      "cell_type": "code",
      "execution_count": 15,
      "id": "e2d76413",
      "metadata": {
        "id": "e2d76413"
      },
      "outputs": [],
      "source": [
        "features_train = np.array(full_train)\n",
        "features_test = np.array(full_test)\n",
        "\n",
        "# stack features and labels together\n",
        "data_frame_train = np.hstack((features_train,labels_train))\n",
        "\n",
        "# shuffle train data\n",
        "np.random.shuffle(data_frame_train)"
      ]
    },
    {
      "cell_type": "code",
      "execution_count": 16,
      "id": "a214c7fe",
      "metadata": {
        "id": "a214c7fe"
      },
      "outputs": [],
      "source": [
        "# split features and labels of train data\n",
        "x_train = data_frame_train[:len(data_frame_train),:-1]\n",
        "y_train = data_frame_train[:len(data_frame_train),-1]\n",
        "\n",
        "# ready test data and labels\n",
        "x_test = features_test\n",
        "y_test = labels_test"
      ]
    },
    {
      "cell_type": "code",
      "execution_count": 17,
      "id": "e7b51d96",
      "metadata": {
        "colab": {
          "base_uri": "https://localhost:8080/"
        },
        "id": "e7b51d96",
        "outputId": "1300d4a6-03b7-4158-af93-0de67f590f13"
      },
      "outputs": [
        {
          "output_type": "stream",
          "name": "stdout",
          "text": [
            "              precision    recall  f1-score   support\n",
            "\n",
            "           0       0.61      0.85      0.71       200\n",
            "           1       0.75      0.46      0.57       200\n",
            "\n",
            "    accuracy                           0.66       400\n",
            "   macro avg       0.68      0.66      0.64       400\n",
            "weighted avg       0.68      0.66      0.64       400\n",
            "\n"
          ]
        }
      ],
      "source": [
        "dt = DecisionTreeClassifier()\n",
        "\n",
        "dt.fit(x_train, y_train)\n",
        "\n",
        "# Make predictions on the testing data\n",
        "y_dt = dt.predict(x_test)\n",
        "\n",
        "print(classification_report(y_test, y_dt))"
      ]
    },
    {
      "cell_type": "code",
      "execution_count": 18,
      "id": "b6c36b65",
      "metadata": {
        "colab": {
          "base_uri": "https://localhost:8080/"
        },
        "id": "b6c36b65",
        "outputId": "eaf6221c-33f9-4af6-c679-e78aa06f9b14"
      },
      "outputs": [
        {
          "output_type": "stream",
          "name": "stdout",
          "text": [
            "              precision    recall  f1-score   support\n",
            "\n",
            "           0       0.92      0.97      0.95       200\n",
            "           1       0.97      0.92      0.94       200\n",
            "\n",
            "    accuracy                           0.94       400\n",
            "   macro avg       0.95      0.95      0.94       400\n",
            "weighted avg       0.95      0.94      0.94       400\n",
            "\n"
          ]
        }
      ],
      "source": [
        "svm_classifier = SVC(kernel='linear')\n",
        "\n",
        "# Train the classifier on the training data\n",
        "svm_classifier.fit(x_train, y_train)\n",
        "\n",
        "# Make predictions on the testing data\n",
        "y_svm = svm_classifier.predict(x_test)\n",
        "\n",
        "print(classification_report(y_test, y_svm))"
      ]
    },
    {
      "cell_type": "code",
      "execution_count": 19,
      "id": "ba177352",
      "metadata": {
        "colab": {
          "base_uri": "https://localhost:8080/"
        },
        "id": "ba177352",
        "outputId": "a762acdf-266b-47b0-f4e2-8d368a1aba1e"
      },
      "outputs": [
        {
          "output_type": "stream",
          "name": "stdout",
          "text": [
            "              precision    recall  f1-score   support\n",
            "\n",
            "           0       0.92      0.97      0.95       200\n",
            "           1       0.97      0.92      0.94       200\n",
            "\n",
            "    accuracy                           0.94       400\n",
            "   macro avg       0.95      0.95      0.94       400\n",
            "weighted avg       0.95      0.94      0.94       400\n",
            "\n"
          ]
        }
      ],
      "source": [
        "logistic_regression = LogisticRegression(max_iter=1000)\n",
        "\n",
        "# Train the classifier on the training data\n",
        "logistic_regression.fit(x_train, y_train)\n",
        "\n",
        "# Make predictions on the testing data\n",
        "y_lr = logistic_regression.predict(x_test)\n",
        "\n",
        "print(classification_report(y_test, y_lr))"
      ]
    },
    {
      "cell_type": "code",
      "execution_count": 20,
      "id": "4486435c",
      "metadata": {
        "colab": {
          "base_uri": "https://localhost:8080/"
        },
        "id": "4486435c",
        "outputId": "d95ac3ac-782a-4a4b-8a04-aeb0dc6075a8"
      },
      "outputs": [
        {
          "output_type": "stream",
          "name": "stdout",
          "text": [
            "              precision    recall  f1-score   support\n",
            "\n",
            "           0       0.91      0.89      0.90       200\n",
            "           1       0.89      0.91      0.90       200\n",
            "\n",
            "    accuracy                           0.90       400\n",
            "   macro avg       0.90      0.90      0.90       400\n",
            "weighted avg       0.90      0.90      0.90       400\n",
            "\n"
          ]
        }
      ],
      "source": [
        "random_forest_classifier = RandomForestClassifier(n_estimators=100, random_state=42)\n",
        "\n",
        "# Train the classifier on the training data\n",
        "random_forest_classifier.fit(x_train, y_train)\n",
        "\n",
        "# Make predictions on the testing data\n",
        "y_rf = random_forest_classifier.predict(x_test)\n",
        "\n",
        "print(classification_report(y_test, y_rf))"
      ]
    },
    {
      "cell_type": "code",
      "execution_count": 21,
      "id": "292ecd7d",
      "metadata": {
        "colab": {
          "base_uri": "https://localhost:8080/"
        },
        "id": "292ecd7d",
        "outputId": "8e40462a-5f44-4ce5-a2f0-16dc69f671f0"
      },
      "outputs": [
        {
          "output_type": "stream",
          "name": "stdout",
          "text": [
            "              precision    recall  f1-score   support\n",
            "\n",
            "           0       0.00      0.00      0.00       200\n",
            "           1       0.49      0.98      0.66       200\n",
            "\n",
            "    accuracy                           0.49       400\n",
            "   macro avg       0.25      0.49      0.33       400\n",
            "weighted avg       0.25      0.49      0.33       400\n",
            "\n"
          ]
        }
      ],
      "source": [
        "naive_bayes_classifier = GaussianNB()\n",
        "\n",
        "# Train the classifier on the training data\n",
        "naive_bayes_classifier.fit(x_train, y_train)\n",
        "\n",
        "# Make predictions on the testing data\n",
        "y_nb = naive_bayes_classifier.predict(x_test)\n",
        "\n",
        "print(classification_report(y_test, y_nb))"
      ]
    },
    {
      "cell_type": "code",
      "execution_count": 22,
      "id": "ff599d73",
      "metadata": {
        "colab": {
          "base_uri": "https://localhost:8080/"
        },
        "id": "ff599d73",
        "outputId": "dc8f2f7a-f650-496e-a833-a5169a78567e"
      },
      "outputs": [
        {
          "output_type": "stream",
          "name": "stdout",
          "text": [
            "              precision    recall  f1-score   support\n",
            "\n",
            "           0       1.00      0.24      0.39       200\n",
            "           1       0.57      1.00      0.72       200\n",
            "\n",
            "    accuracy                           0.62       400\n",
            "   macro avg       0.78      0.62      0.56       400\n",
            "weighted avg       0.78      0.62      0.56       400\n",
            "\n"
          ]
        }
      ],
      "source": [
        "knn_classifier = KNeighborsClassifier(n_neighbors=5)\n",
        "\n",
        "# Train the classifier on the training data\n",
        "knn_classifier.fit(x_train, y_train)\n",
        "\n",
        "# Make predictions on the testing data\n",
        "y_knn = knn_classifier.predict(x_test)\n",
        "\n",
        "print(classification_report(y_test, y_knn))"
      ]
    },
    {
      "cell_type": "code",
      "execution_count": 23,
      "id": "69240015",
      "metadata": {
        "id": "69240015"
      },
      "outputs": [],
      "source": [
        "results = {}\n",
        "scores_dt = cross_validate(dt, x_test, y_test, cv = 5, scoring = ['accuracy', 'precision', 'recall', 'f1'])\n",
        "\n",
        "results[0] = {\n",
        "        'Model': 'Decision Tree',\n",
        "        'Accuracy': scores_dt['test_accuracy'].mean(),\n",
        "        'Precision': scores_dt['test_precision'].mean(),\n",
        "        'Recall': scores_dt['test_recall'].mean(),\n",
        "        'F1 Score': scores_dt['test_f1'].mean()\n",
        "    }\n",
        "\n",
        "#print(results)\n"
      ]
    },
    {
      "cell_type": "code",
      "execution_count": 24,
      "id": "6f418fd6",
      "metadata": {
        "colab": {
          "base_uri": "https://localhost:8080/"
        },
        "id": "6f418fd6",
        "outputId": "1e2dde56-3dbc-4a32-c69c-e7c4646ab051"
      },
      "outputs": [
        {
          "output_type": "stream",
          "name": "stderr",
          "text": [
            "/usr/local/lib/python3.10/dist-packages/sklearn/utils/validation.py:1143: DataConversionWarning: A column-vector y was passed when a 1d array was expected. Please change the shape of y to (n_samples, ), for example using ravel().\n",
            "  y = column_or_1d(y, warn=True)\n",
            "/usr/local/lib/python3.10/dist-packages/sklearn/utils/validation.py:1143: DataConversionWarning: A column-vector y was passed when a 1d array was expected. Please change the shape of y to (n_samples, ), for example using ravel().\n",
            "  y = column_or_1d(y, warn=True)\n",
            "/usr/local/lib/python3.10/dist-packages/sklearn/utils/validation.py:1143: DataConversionWarning: A column-vector y was passed when a 1d array was expected. Please change the shape of y to (n_samples, ), for example using ravel().\n",
            "  y = column_or_1d(y, warn=True)\n",
            "/usr/local/lib/python3.10/dist-packages/sklearn/utils/validation.py:1143: DataConversionWarning: A column-vector y was passed when a 1d array was expected. Please change the shape of y to (n_samples, ), for example using ravel().\n",
            "  y = column_or_1d(y, warn=True)\n",
            "/usr/local/lib/python3.10/dist-packages/sklearn/utils/validation.py:1143: DataConversionWarning: A column-vector y was passed when a 1d array was expected. Please change the shape of y to (n_samples, ), for example using ravel().\n",
            "  y = column_or_1d(y, warn=True)\n"
          ]
        }
      ],
      "source": [
        "scores_svm = cross_validate(svm_classifier, x_test, y_test, cv=5, scoring= ['accuracy', 'precision', 'recall', 'f1'])\n",
        "\n",
        "results[1] = {\n",
        "        'Model': 'SVM',\n",
        "        'Accuracy': scores_svm['test_accuracy'].mean(),\n",
        "        'Precision': scores_svm['test_precision'].mean(),\n",
        "        'Recall': scores_svm['test_recall'].mean(),\n",
        "        'F1 Score': scores_svm['test_f1'].mean()\n",
        "    }\n",
        "\n",
        "#print(results)"
      ]
    },
    {
      "cell_type": "code",
      "execution_count": 25,
      "id": "35fa4569",
      "metadata": {
        "colab": {
          "base_uri": "https://localhost:8080/"
        },
        "id": "35fa4569",
        "outputId": "b94f013c-192e-4344-c6fd-2a094804327d"
      },
      "outputs": [
        {
          "output_type": "stream",
          "name": "stderr",
          "text": [
            "/usr/local/lib/python3.10/dist-packages/sklearn/utils/validation.py:1143: DataConversionWarning: A column-vector y was passed when a 1d array was expected. Please change the shape of y to (n_samples, ), for example using ravel().\n",
            "  y = column_or_1d(y, warn=True)\n",
            "/usr/local/lib/python3.10/dist-packages/sklearn/utils/validation.py:1143: DataConversionWarning: A column-vector y was passed when a 1d array was expected. Please change the shape of y to (n_samples, ), for example using ravel().\n",
            "  y = column_or_1d(y, warn=True)\n",
            "/usr/local/lib/python3.10/dist-packages/sklearn/utils/validation.py:1143: DataConversionWarning: A column-vector y was passed when a 1d array was expected. Please change the shape of y to (n_samples, ), for example using ravel().\n",
            "  y = column_or_1d(y, warn=True)\n",
            "/usr/local/lib/python3.10/dist-packages/sklearn/utils/validation.py:1143: DataConversionWarning: A column-vector y was passed when a 1d array was expected. Please change the shape of y to (n_samples, ), for example using ravel().\n",
            "  y = column_or_1d(y, warn=True)\n",
            "/usr/local/lib/python3.10/dist-packages/sklearn/utils/validation.py:1143: DataConversionWarning: A column-vector y was passed when a 1d array was expected. Please change the shape of y to (n_samples, ), for example using ravel().\n",
            "  y = column_or_1d(y, warn=True)\n"
          ]
        }
      ],
      "source": [
        "scores_lr = cross_validate(logistic_regression, x_test, y_test, cv=5, scoring = ['accuracy', 'precision', 'recall', 'f1'])\n",
        "\n",
        "results[2] = {\n",
        "        'Model': 'Logistic Regression',\n",
        "        'Accuracy': scores_lr['test_accuracy'].mean(),\n",
        "        'Precision': scores_lr['test_precision'].mean(),\n",
        "        'Recall': scores_lr['test_recall'].mean(),\n",
        "        'F1 Score': scores_lr['test_f1'].mean()\n",
        "    }\n",
        "\n",
        "#print(results)"
      ]
    },
    {
      "cell_type": "code",
      "execution_count": 26,
      "id": "1f02a893",
      "metadata": {
        "colab": {
          "base_uri": "https://localhost:8080/"
        },
        "id": "1f02a893",
        "outputId": "9f53925a-b7ea-4681-a78c-efaf6a0dbdf3"
      },
      "outputs": [
        {
          "output_type": "stream",
          "name": "stderr",
          "text": [
            "/usr/local/lib/python3.10/dist-packages/sklearn/model_selection/_validation.py:686: DataConversionWarning: A column-vector y was passed when a 1d array was expected. Please change the shape of y to (n_samples,), for example using ravel().\n",
            "  estimator.fit(X_train, y_train, **fit_params)\n",
            "/usr/local/lib/python3.10/dist-packages/sklearn/model_selection/_validation.py:686: DataConversionWarning: A column-vector y was passed when a 1d array was expected. Please change the shape of y to (n_samples,), for example using ravel().\n",
            "  estimator.fit(X_train, y_train, **fit_params)\n",
            "/usr/local/lib/python3.10/dist-packages/sklearn/model_selection/_validation.py:686: DataConversionWarning: A column-vector y was passed when a 1d array was expected. Please change the shape of y to (n_samples,), for example using ravel().\n",
            "  estimator.fit(X_train, y_train, **fit_params)\n",
            "/usr/local/lib/python3.10/dist-packages/sklearn/model_selection/_validation.py:686: DataConversionWarning: A column-vector y was passed when a 1d array was expected. Please change the shape of y to (n_samples,), for example using ravel().\n",
            "  estimator.fit(X_train, y_train, **fit_params)\n",
            "/usr/local/lib/python3.10/dist-packages/sklearn/model_selection/_validation.py:686: DataConversionWarning: A column-vector y was passed when a 1d array was expected. Please change the shape of y to (n_samples,), for example using ravel().\n",
            "  estimator.fit(X_train, y_train, **fit_params)\n"
          ]
        }
      ],
      "source": [
        "scores_rf = cross_validate(random_forest_classifier, x_test, y_test, cv = 5, scoring = ['accuracy', 'precision', 'recall', 'f1'])\n",
        "\n",
        "results[3] = {\n",
        "        'Model': 'Random Forest',\n",
        "        'Accuracy': scores_rf['test_accuracy'].mean(),\n",
        "        'Precision': scores_rf['test_precision'].mean(),\n",
        "        'Recall': scores_rf['test_recall'].mean(),\n",
        "        'F1 Score': scores_rf['test_f1'].mean()\n",
        "    }\n",
        "\n",
        "#print(results)"
      ]
    },
    {
      "cell_type": "code",
      "execution_count": 27,
      "id": "384676c5",
      "metadata": {
        "colab": {
          "base_uri": "https://localhost:8080/"
        },
        "id": "384676c5",
        "outputId": "03287e72-f878-481b-dc2b-a7b38dc3c11a"
      },
      "outputs": [
        {
          "output_type": "stream",
          "name": "stderr",
          "text": [
            "/usr/local/lib/python3.10/dist-packages/sklearn/utils/validation.py:1143: DataConversionWarning: A column-vector y was passed when a 1d array was expected. Please change the shape of y to (n_samples, ), for example using ravel().\n",
            "  y = column_or_1d(y, warn=True)\n",
            "/usr/local/lib/python3.10/dist-packages/sklearn/utils/validation.py:1143: DataConversionWarning: A column-vector y was passed when a 1d array was expected. Please change the shape of y to (n_samples, ), for example using ravel().\n",
            "  y = column_or_1d(y, warn=True)\n",
            "/usr/local/lib/python3.10/dist-packages/sklearn/utils/validation.py:1143: DataConversionWarning: A column-vector y was passed when a 1d array was expected. Please change the shape of y to (n_samples, ), for example using ravel().\n",
            "  y = column_or_1d(y, warn=True)\n",
            "/usr/local/lib/python3.10/dist-packages/sklearn/utils/validation.py:1143: DataConversionWarning: A column-vector y was passed when a 1d array was expected. Please change the shape of y to (n_samples, ), for example using ravel().\n",
            "  y = column_or_1d(y, warn=True)\n",
            "/usr/local/lib/python3.10/dist-packages/sklearn/utils/validation.py:1143: DataConversionWarning: A column-vector y was passed when a 1d array was expected. Please change the shape of y to (n_samples, ), for example using ravel().\n",
            "  y = column_or_1d(y, warn=True)\n"
          ]
        }
      ],
      "source": [
        "scores_nb = cross_validate(naive_bayes_classifier, x_test, y_test, cv=5, scoring = ['accuracy', 'precision', 'recall', 'f1'])\n",
        "\n",
        "results[4] = {\n",
        "        'Model': 'Naive Bayes',\n",
        "        'Accuracy': scores_nb['test_accuracy'].mean(),\n",
        "        'Precision': scores_nb['test_precision'].mean(),\n",
        "        'Recall': scores_nb['test_recall'].mean(),\n",
        "        'F1 Score': scores_nb['test_f1'].mean()\n",
        "    }\n",
        "\n",
        "#print(results)"
      ]
    },
    {
      "cell_type": "code",
      "execution_count": 28,
      "id": "5ff5adef",
      "metadata": {
        "colab": {
          "base_uri": "https://localhost:8080/"
        },
        "id": "5ff5adef",
        "outputId": "b8278682-77d3-4c79-a4db-17a5ca74755b"
      },
      "outputs": [
        {
          "output_type": "stream",
          "name": "stderr",
          "text": [
            "/usr/local/lib/python3.10/dist-packages/sklearn/neighbors/_classification.py:215: DataConversionWarning: A column-vector y was passed when a 1d array was expected. Please change the shape of y to (n_samples,), for example using ravel().\n",
            "  return self._fit(X, y)\n",
            "/usr/local/lib/python3.10/dist-packages/sklearn/neighbors/_classification.py:215: DataConversionWarning: A column-vector y was passed when a 1d array was expected. Please change the shape of y to (n_samples,), for example using ravel().\n",
            "  return self._fit(X, y)\n",
            "/usr/local/lib/python3.10/dist-packages/sklearn/neighbors/_classification.py:215: DataConversionWarning: A column-vector y was passed when a 1d array was expected. Please change the shape of y to (n_samples,), for example using ravel().\n",
            "  return self._fit(X, y)\n",
            "/usr/local/lib/python3.10/dist-packages/sklearn/neighbors/_classification.py:215: DataConversionWarning: A column-vector y was passed when a 1d array was expected. Please change the shape of y to (n_samples,), for example using ravel().\n",
            "  return self._fit(X, y)\n",
            "/usr/local/lib/python3.10/dist-packages/sklearn/neighbors/_classification.py:215: DataConversionWarning: A column-vector y was passed when a 1d array was expected. Please change the shape of y to (n_samples,), for example using ravel().\n",
            "  return self._fit(X, y)\n"
          ]
        }
      ],
      "source": [
        "scores_knn = cross_validate(knn_classifier, x_test, y_test, cv = 5, scoring = ['accuracy', 'precision', 'recall', 'f1'])\n",
        "\n",
        "results[5] = {\n",
        "        'Model': 'KNN',\n",
        "        'Accuracy': scores_knn['test_accuracy'].mean(),\n",
        "        'Precision': scores_knn['test_precision'].mean(),\n",
        "        'Recall': scores_knn['test_recall'].mean(),\n",
        "        'F1 Score': scores_knn['test_f1'].mean()\n",
        "    }\n",
        "\n",
        "#print(results)"
      ]
    },
    {
      "cell_type": "code",
      "execution_count": 29,
      "id": "c3c9cb56",
      "metadata": {
        "id": "c3c9cb56"
      },
      "outputs": [],
      "source": [
        "results_df = pd.DataFrame(results)\n",
        "results_df = results_df.T"
      ]
    },
    {
      "cell_type": "code",
      "execution_count": 30,
      "id": "c108acf6",
      "metadata": {
        "colab": {
          "base_uri": "https://localhost:8080/",
          "height": 237
        },
        "id": "c108acf6",
        "outputId": "724c3f2a-6b0c-476e-e18d-826296fc623e"
      },
      "outputs": [
        {
          "output_type": "execute_result",
          "data": {
            "text/plain": [
              "                 Model Accuracy Precision Recall  F1 Score\n",
              "0        Decision Tree   0.9975       1.0  0.995  0.997468\n",
              "1                  SVM   0.9925  0.990244  0.995   0.99253\n",
              "2  Logistic Regression   0.9925  0.990244  0.995   0.99253\n",
              "3        Random Forest      1.0       1.0    1.0       1.0\n",
              "4          Naive Bayes   0.9425  0.901154    1.0  0.946901\n",
              "5                  KNN   0.9275  0.988854  0.865   0.92204"
            ],
            "text/html": [
              "\n",
              "  <div id=\"df-6590fa4c-0999-445a-99d6-14f07bd5a185\" class=\"colab-df-container\">\n",
              "    <div>\n",
              "<style scoped>\n",
              "    .dataframe tbody tr th:only-of-type {\n",
              "        vertical-align: middle;\n",
              "    }\n",
              "\n",
              "    .dataframe tbody tr th {\n",
              "        vertical-align: top;\n",
              "    }\n",
              "\n",
              "    .dataframe thead th {\n",
              "        text-align: right;\n",
              "    }\n",
              "</style>\n",
              "<table border=\"1\" class=\"dataframe\">\n",
              "  <thead>\n",
              "    <tr style=\"text-align: right;\">\n",
              "      <th></th>\n",
              "      <th>Model</th>\n",
              "      <th>Accuracy</th>\n",
              "      <th>Precision</th>\n",
              "      <th>Recall</th>\n",
              "      <th>F1 Score</th>\n",
              "    </tr>\n",
              "  </thead>\n",
              "  <tbody>\n",
              "    <tr>\n",
              "      <th>0</th>\n",
              "      <td>Decision Tree</td>\n",
              "      <td>0.9975</td>\n",
              "      <td>1.0</td>\n",
              "      <td>0.995</td>\n",
              "      <td>0.997468</td>\n",
              "    </tr>\n",
              "    <tr>\n",
              "      <th>1</th>\n",
              "      <td>SVM</td>\n",
              "      <td>0.9925</td>\n",
              "      <td>0.990244</td>\n",
              "      <td>0.995</td>\n",
              "      <td>0.99253</td>\n",
              "    </tr>\n",
              "    <tr>\n",
              "      <th>2</th>\n",
              "      <td>Logistic Regression</td>\n",
              "      <td>0.9925</td>\n",
              "      <td>0.990244</td>\n",
              "      <td>0.995</td>\n",
              "      <td>0.99253</td>\n",
              "    </tr>\n",
              "    <tr>\n",
              "      <th>3</th>\n",
              "      <td>Random Forest</td>\n",
              "      <td>1.0</td>\n",
              "      <td>1.0</td>\n",
              "      <td>1.0</td>\n",
              "      <td>1.0</td>\n",
              "    </tr>\n",
              "    <tr>\n",
              "      <th>4</th>\n",
              "      <td>Naive Bayes</td>\n",
              "      <td>0.9425</td>\n",
              "      <td>0.901154</td>\n",
              "      <td>1.0</td>\n",
              "      <td>0.946901</td>\n",
              "    </tr>\n",
              "    <tr>\n",
              "      <th>5</th>\n",
              "      <td>KNN</td>\n",
              "      <td>0.9275</td>\n",
              "      <td>0.988854</td>\n",
              "      <td>0.865</td>\n",
              "      <td>0.92204</td>\n",
              "    </tr>\n",
              "  </tbody>\n",
              "</table>\n",
              "</div>\n",
              "    <div class=\"colab-df-buttons\">\n",
              "\n",
              "  <div class=\"colab-df-container\">\n",
              "    <button class=\"colab-df-convert\" onclick=\"convertToInteractive('df-6590fa4c-0999-445a-99d6-14f07bd5a185')\"\n",
              "            title=\"Convert this dataframe to an interactive table.\"\n",
              "            style=\"display:none;\">\n",
              "\n",
              "  <svg xmlns=\"http://www.w3.org/2000/svg\" height=\"24px\" viewBox=\"0 -960 960 960\">\n",
              "    <path d=\"M120-120v-720h720v720H120Zm60-500h600v-160H180v160Zm220 220h160v-160H400v160Zm0 220h160v-160H400v160ZM180-400h160v-160H180v160Zm440 0h160v-160H620v160ZM180-180h160v-160H180v160Zm440 0h160v-160H620v160Z\"/>\n",
              "  </svg>\n",
              "    </button>\n",
              "\n",
              "  <style>\n",
              "    .colab-df-container {\n",
              "      display:flex;\n",
              "      gap: 12px;\n",
              "    }\n",
              "\n",
              "    .colab-df-convert {\n",
              "      background-color: #E8F0FE;\n",
              "      border: none;\n",
              "      border-radius: 50%;\n",
              "      cursor: pointer;\n",
              "      display: none;\n",
              "      fill: #1967D2;\n",
              "      height: 32px;\n",
              "      padding: 0 0 0 0;\n",
              "      width: 32px;\n",
              "    }\n",
              "\n",
              "    .colab-df-convert:hover {\n",
              "      background-color: #E2EBFA;\n",
              "      box-shadow: 0px 1px 2px rgba(60, 64, 67, 0.3), 0px 1px 3px 1px rgba(60, 64, 67, 0.15);\n",
              "      fill: #174EA6;\n",
              "    }\n",
              "\n",
              "    .colab-df-buttons div {\n",
              "      margin-bottom: 4px;\n",
              "    }\n",
              "\n",
              "    [theme=dark] .colab-df-convert {\n",
              "      background-color: #3B4455;\n",
              "      fill: #D2E3FC;\n",
              "    }\n",
              "\n",
              "    [theme=dark] .colab-df-convert:hover {\n",
              "      background-color: #434B5C;\n",
              "      box-shadow: 0px 1px 3px 1px rgba(0, 0, 0, 0.15);\n",
              "      filter: drop-shadow(0px 1px 2px rgba(0, 0, 0, 0.3));\n",
              "      fill: #FFFFFF;\n",
              "    }\n",
              "  </style>\n",
              "\n",
              "    <script>\n",
              "      const buttonEl =\n",
              "        document.querySelector('#df-6590fa4c-0999-445a-99d6-14f07bd5a185 button.colab-df-convert');\n",
              "      buttonEl.style.display =\n",
              "        google.colab.kernel.accessAllowed ? 'block' : 'none';\n",
              "\n",
              "      async function convertToInteractive(key) {\n",
              "        const element = document.querySelector('#df-6590fa4c-0999-445a-99d6-14f07bd5a185');\n",
              "        const dataTable =\n",
              "          await google.colab.kernel.invokeFunction('convertToInteractive',\n",
              "                                                    [key], {});\n",
              "        if (!dataTable) return;\n",
              "\n",
              "        const docLinkHtml = 'Like what you see? Visit the ' +\n",
              "          '<a target=\"_blank\" href=https://colab.research.google.com/notebooks/data_table.ipynb>data table notebook</a>'\n",
              "          + ' to learn more about interactive tables.';\n",
              "        element.innerHTML = '';\n",
              "        dataTable['output_type'] = 'display_data';\n",
              "        await google.colab.output.renderOutput(dataTable, element);\n",
              "        const docLink = document.createElement('div');\n",
              "        docLink.innerHTML = docLinkHtml;\n",
              "        element.appendChild(docLink);\n",
              "      }\n",
              "    </script>\n",
              "  </div>\n",
              "\n",
              "\n",
              "<div id=\"df-94638521-52aa-418c-b32a-a3c30cae39dd\">\n",
              "  <button class=\"colab-df-quickchart\" onclick=\"quickchart('df-94638521-52aa-418c-b32a-a3c30cae39dd')\"\n",
              "            title=\"Suggest charts\"\n",
              "            style=\"display:none;\">\n",
              "\n",
              "<svg xmlns=\"http://www.w3.org/2000/svg\" height=\"24px\"viewBox=\"0 0 24 24\"\n",
              "     width=\"24px\">\n",
              "    <g>\n",
              "        <path d=\"M19 3H5c-1.1 0-2 .9-2 2v14c0 1.1.9 2 2 2h14c1.1 0 2-.9 2-2V5c0-1.1-.9-2-2-2zM9 17H7v-7h2v7zm4 0h-2V7h2v10zm4 0h-2v-4h2v4z\"/>\n",
              "    </g>\n",
              "</svg>\n",
              "  </button>\n",
              "\n",
              "<style>\n",
              "  .colab-df-quickchart {\n",
              "      --bg-color: #E8F0FE;\n",
              "      --fill-color: #1967D2;\n",
              "      --hover-bg-color: #E2EBFA;\n",
              "      --hover-fill-color: #174EA6;\n",
              "      --disabled-fill-color: #AAA;\n",
              "      --disabled-bg-color: #DDD;\n",
              "  }\n",
              "\n",
              "  [theme=dark] .colab-df-quickchart {\n",
              "      --bg-color: #3B4455;\n",
              "      --fill-color: #D2E3FC;\n",
              "      --hover-bg-color: #434B5C;\n",
              "      --hover-fill-color: #FFFFFF;\n",
              "      --disabled-bg-color: #3B4455;\n",
              "      --disabled-fill-color: #666;\n",
              "  }\n",
              "\n",
              "  .colab-df-quickchart {\n",
              "    background-color: var(--bg-color);\n",
              "    border: none;\n",
              "    border-radius: 50%;\n",
              "    cursor: pointer;\n",
              "    display: none;\n",
              "    fill: var(--fill-color);\n",
              "    height: 32px;\n",
              "    padding: 0;\n",
              "    width: 32px;\n",
              "  }\n",
              "\n",
              "  .colab-df-quickchart:hover {\n",
              "    background-color: var(--hover-bg-color);\n",
              "    box-shadow: 0 1px 2px rgba(60, 64, 67, 0.3), 0 1px 3px 1px rgba(60, 64, 67, 0.15);\n",
              "    fill: var(--button-hover-fill-color);\n",
              "  }\n",
              "\n",
              "  .colab-df-quickchart-complete:disabled,\n",
              "  .colab-df-quickchart-complete:disabled:hover {\n",
              "    background-color: var(--disabled-bg-color);\n",
              "    fill: var(--disabled-fill-color);\n",
              "    box-shadow: none;\n",
              "  }\n",
              "\n",
              "  .colab-df-spinner {\n",
              "    border: 2px solid var(--fill-color);\n",
              "    border-color: transparent;\n",
              "    border-bottom-color: var(--fill-color);\n",
              "    animation:\n",
              "      spin 1s steps(1) infinite;\n",
              "  }\n",
              "\n",
              "  @keyframes spin {\n",
              "    0% {\n",
              "      border-color: transparent;\n",
              "      border-bottom-color: var(--fill-color);\n",
              "      border-left-color: var(--fill-color);\n",
              "    }\n",
              "    20% {\n",
              "      border-color: transparent;\n",
              "      border-left-color: var(--fill-color);\n",
              "      border-top-color: var(--fill-color);\n",
              "    }\n",
              "    30% {\n",
              "      border-color: transparent;\n",
              "      border-left-color: var(--fill-color);\n",
              "      border-top-color: var(--fill-color);\n",
              "      border-right-color: var(--fill-color);\n",
              "    }\n",
              "    40% {\n",
              "      border-color: transparent;\n",
              "      border-right-color: var(--fill-color);\n",
              "      border-top-color: var(--fill-color);\n",
              "    }\n",
              "    60% {\n",
              "      border-color: transparent;\n",
              "      border-right-color: var(--fill-color);\n",
              "    }\n",
              "    80% {\n",
              "      border-color: transparent;\n",
              "      border-right-color: var(--fill-color);\n",
              "      border-bottom-color: var(--fill-color);\n",
              "    }\n",
              "    90% {\n",
              "      border-color: transparent;\n",
              "      border-bottom-color: var(--fill-color);\n",
              "    }\n",
              "  }\n",
              "</style>\n",
              "\n",
              "  <script>\n",
              "    async function quickchart(key) {\n",
              "      const quickchartButtonEl =\n",
              "        document.querySelector('#' + key + ' button');\n",
              "      quickchartButtonEl.disabled = true;  // To prevent multiple clicks.\n",
              "      quickchartButtonEl.classList.add('colab-df-spinner');\n",
              "      try {\n",
              "        const charts = await google.colab.kernel.invokeFunction(\n",
              "            'suggestCharts', [key], {});\n",
              "      } catch (error) {\n",
              "        console.error('Error during call to suggestCharts:', error);\n",
              "      }\n",
              "      quickchartButtonEl.classList.remove('colab-df-spinner');\n",
              "      quickchartButtonEl.classList.add('colab-df-quickchart-complete');\n",
              "    }\n",
              "    (() => {\n",
              "      let quickchartButtonEl =\n",
              "        document.querySelector('#df-94638521-52aa-418c-b32a-a3c30cae39dd button');\n",
              "      quickchartButtonEl.style.display =\n",
              "        google.colab.kernel.accessAllowed ? 'block' : 'none';\n",
              "    })();\n",
              "  </script>\n",
              "</div>\n",
              "    </div>\n",
              "  </div>\n"
            ],
            "application/vnd.google.colaboratory.intrinsic+json": {
              "type": "dataframe",
              "variable_name": "results_df",
              "summary": "{\n  \"name\": \"results_df\",\n  \"rows\": 6,\n  \"fields\": [\n    {\n      \"column\": \"Model\",\n      \"properties\": {\n        \"dtype\": \"string\",\n        \"num_unique_values\": 6,\n        \"samples\": [\n          \"Decision Tree\",\n          \"SVM\",\n          \"KNN\"\n        ],\n        \"semantic_type\": \"\",\n        \"description\": \"\"\n      }\n    },\n    {\n      \"column\": \"Accuracy\",\n      \"properties\": {\n        \"dtype\": \"date\",\n        \"min\": 0.9275,\n        \"max\": 1.0,\n        \"num_unique_values\": 5,\n        \"samples\": [\n          0.9925,\n          0.9275,\n          1.0\n        ],\n        \"semantic_type\": \"\",\n        \"description\": \"\"\n      }\n    },\n    {\n      \"column\": \"Precision\",\n      \"properties\": {\n        \"dtype\": \"date\",\n        \"min\": 0.901153697251258,\n        \"max\": 1.0,\n        \"num_unique_values\": 4,\n        \"samples\": [\n          0.9902439024390244,\n          0.9888544891640867,\n          1.0\n        ],\n        \"semantic_type\": \"\",\n        \"description\": \"\"\n      }\n    },\n    {\n      \"column\": \"Recall\",\n      \"properties\": {\n        \"dtype\": \"date\",\n        \"min\": 0.8649999999999999,\n        \"max\": 1.0,\n        \"num_unique_values\": 3,\n        \"samples\": [\n          0.9949999999999999,\n          1.0,\n          0.8649999999999999\n        ],\n        \"semantic_type\": \"\",\n        \"description\": \"\"\n      }\n    },\n    {\n      \"column\": \"F1 Score\",\n      \"properties\": {\n        \"dtype\": \"date\",\n        \"min\": 0.922040096776939,\n        \"max\": 1.0,\n        \"num_unique_values\": 5,\n        \"samples\": [\n          0.9925300828254414,\n          0.922040096776939,\n          1.0\n        ],\n        \"semantic_type\": \"\",\n        \"description\": \"\"\n      }\n    }\n  ]\n}"
            }
          },
          "metadata": {},
          "execution_count": 30
        }
      ],
      "source": [
        "results_df"
      ]
    },
    {
      "cell_type": "code",
      "execution_count": 31,
      "id": "8d23ccad",
      "metadata": {
        "colab": {
          "base_uri": "https://localhost:8080/",
          "height": 564
        },
        "id": "8d23ccad",
        "outputId": "c63d270e-b07c-4743-fac6-a3456126cdc1"
      },
      "outputs": [
        {
          "output_type": "display_data",
          "data": {
            "text/plain": [
              "<Figure size 800x600 with 2 Axes>"
            ],
            "image/png": "[encoded data removed]"
          },
          "metadata": {}
        }
      ],
      "source": [
        "conf_matrix = confusion_matrix(y_test, y_rf)\n",
        "\n",
        "# Plot confusion matrix\n",
        "plt.figure(figsize=(8, 6))\n",
        "sns.heatmap(conf_matrix, annot=True, fmt=\"d\", cmap=\"Blues\")\n",
        "plt.xlabel('Predicted')\n",
        "plt.ylabel('Actual')\n",
        "plt.title('Confusion Matrix')\n",
        "plt.show()"
      ]
    },
    {
      "cell_type": "code",
      "execution_count": 31,
      "id": "af7daf42",
      "metadata": {
        "id": "af7daf42"
      },
      "outputs": [],
      "source": []
    }
  ],
  "metadata": {
    "kernelspec": {
      "display_name": "Python 3 (ipykernel)",
      "language": "python",
      "name": "python3"
    },
    "language_info": {
      "codemirror_mode": {
        "name": "ipython",
        "version": 3
      },
      "file_extension": ".py",
      "mimetype": "text/x-python",
      "name": "python",
      "nbconvert_exporter": "python",
      "pygments_lexer": "ipython3",
      "version": "3.11.5"
    },
    "colab": {
      "provenance": []
    }
  },
  "nbformat": 4,
  "nbformat_minor": 5
}